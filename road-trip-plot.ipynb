{
 "cells": [
  {
   "cell_type": "code",
   "execution_count": 1,
   "metadata": {
    "collapsed": false
   },
   "outputs": [],
   "source": [
    "import numpy as np\n",
    "import gmplot\n",
    "import datetime\n",
    "import json\n",
    "\n",
    "loc_file = 'data/location_history.json' # Data file from Google Takeout\n",
    "\n",
    "# Convert start/end times of trip from milliseconds since Unix epoch to seconds\n",
    "# Change this as needed\n",
    "start_time_ms = float(1495425600000) / 1000.0\n",
    "end_time_ms = float(1496473200000) / 1000.0\n",
    "\n",
    "# Get times as datetime instances\n",
    "start_date = datetime.datetime.fromtimestamp(start_time_ms)\n",
    "end_date = datetime.datetime.fromtimestamp(end_time_ms)\n",
    "\n",
    "# List of all locations during trip\n",
    "loc_list = []\n",
    "\n",
    "with open(loc_file) as json_file:\n",
    "    locs = json.load(json_file)\n",
    "    \n",
    "    # Read locations object in file\n",
    "    all_locs = locs['locations']\n",
    "    \n",
    "    for loc in all_locs:\n",
    "        # Convert location time to datetime instance\n",
    "        loc_date = datetime.datetime.fromtimestamp(float(loc['timestampMs']) / 1000.0)\n",
    "        \n",
    "        # Track each location with time\n",
    "        loc_list.append({\n",
    "                'time': loc_date,\n",
    "                'lat': loc['latitudeE7'] / 1e7,\n",
    "                'lon': loc['longitudeE7'] / 1e7\n",
    "            })\n",
    "\n",
    "# Sort locations by time to connect them in chronological order\n",
    "loc_list.sort(key=lambda x: x['time'], reverse=True)\n",
    "\n",
    "# Lists of latitudes and longitudes\n",
    "lats = []\n",
    "lons = []\n",
    "\n",
    "for loc in loc_list:\n",
    "    # Filter out locations not during trip\n",
    "    if loc['time'] >= start_date and loc['time'] <= end_date:\n",
    "        lats.append(loc['lat'])\n",
    "        lons.append(loc['lon'])\n",
    "\n",
    "gmap = gmplot.GoogleMapPlotter(39.5, -98.35, 5) # Center map on center of United States\n",
    "gmap.plot(lats,lons,'red', edge_width=3)\n",
    "gmap.draw('map.html') # Output map to webpage view"
   ]
  }
 ],
 "metadata": {
  "anaconda-cloud": {},
  "kernelspec": {
   "display_name": "Python [default]",
   "language": "python",
   "name": "python2"
  },
  "language_info": {
   "codemirror_mode": {
    "name": "ipython",
    "version": 2
   },
   "file_extension": ".py",
   "mimetype": "text/x-python",
   "name": "python",
   "nbconvert_exporter": "python",
   "pygments_lexer": "ipython2",
   "version": "2.7.12"
  }
 },
 "nbformat": 4,
 "nbformat_minor": 1
}
